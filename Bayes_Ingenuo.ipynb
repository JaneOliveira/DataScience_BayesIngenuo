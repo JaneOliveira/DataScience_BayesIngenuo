{
  "nbformat": 4,
  "nbformat_minor": 0,
  "metadata": {
    "colab": {
      "provenance": [],
      "include_colab_link": true
    },
    "kernelspec": {
      "name": "python3",
      "display_name": "Python 3"
    },
    "language_info": {
      "name": "python"
    }
  },
  "cells": [
    {
      "cell_type": "markdown",
      "metadata": {
        "id": "view-in-github",
        "colab_type": "text"
      },
      "source": [
        "<a href=\"https://colab.research.google.com/github/JaneOliveira/DataScience_BayesIngenuo/blob/main/Bayes_Ingenuo.ipynb\" target=\"_parent\"><img src=\"https://colab.research.google.com/assets/colab-badge.svg\" alt=\"Open In Colab\"/></a>"
      ]
    },
    {
      "cell_type": "markdown",
      "source": [
        "# brincando com ML\n",
        "\n",
        "####Criando bayes ingênuo\n",
        "---\n",
        "\n"
      ],
      "metadata": {
        "id": "H-Ow_WO6nWgE"
      }
    },
    {
      "cell_type": "code",
      "source": [
        "import numpy as np"
      ],
      "metadata": {
        "id": "joOgp5Xy6H5z"
      },
      "execution_count": 1,
      "outputs": []
    },
    {
      "cell_type": "code",
      "source": [
        "class bayes:\n",
        "  def __init__(self,data) -> None:\n",
        "    self.dataset = data\n",
        "    self.n, self.d = np.shape(self.dataset)\n",
        "\n",
        "\n",
        "  def cria_conj_test(self) -> None:\n",
        "    self.n_amostras = int((self.dataset.shape[0])*0.2)\n",
        "    coluna = int((self.dataset.shape[1]))\n",
        "    np.random.shuffle(self.dataset)\n",
        "    self.conjunto_teste = np.zeros((self.n_amostras, coluna))\n",
        "    for i in range(self.n_amostras):\n",
        "        for j in range(coluna):\n",
        "            self.conjunto_teste[i,j] = self.dataset[i,j]\n",
        "    self.deleta_teste()\n",
        "\n",
        "  \n",
        "  def deleta_teste(self) ->None:\n",
        "    for i in range(self.n_amostras):\n",
        "      self.dataset = np.delete(self.dataset,i, 0)\n",
        "\n",
        "\n",
        "  def normaliza(self) -> None:\n",
        "    nInput = self.d - 1\n",
        "    for l in range(nInput):\n",
        "      self.dataset[:,l] = 2*(self.dataset[:,l] - self.dataset[:,l].min(axis=0)) / (self.dataset[:,l].max(axis=0) - self.dataset[:,l].min(axis=0)) - 1\n",
        "\n",
        "  def calcula_media_classe(self) -> None:\n",
        "    self.mediaClasse = np.zeros(((2,self.dataset.shape[1]-1)))   \n",
        "    cont2 =0\n",
        "    cont1 =0\n",
        "    for i in range((self.dataset.shape[1]-1)):\n",
        "        for j in range(self.dataset.shape[0]):\n",
        "            if(self.dataset[j,-1] == 1):\n",
        "                self.mediaClasse[0][i]+=self.dataset[j,i]\n",
        "                cont1+=1\n",
        "            else:\n",
        "                self.mediaClasse[1][i]+=self.dataset[j,i]\n",
        "                cont2+=1 \n",
        "                \n",
        "        self.mediaClasse[0][i]/=cont1\n",
        "        self.mediaClasse[1][i]/=cont2\n",
        "\n",
        "  \n",
        "  def calcula_variancia_classe(self) -> None:\n",
        "    self.calcula_media_classe()\n",
        "    self.varianciaClasse = np.zeros(((2,self.dataset.shape[1]-1))) \n",
        "    cont2 =0\n",
        "    cont1 =0\n",
        "    \n",
        "    for i in range(self.dataset.shape[1]-1):\n",
        "        for j in range((self.dataset.shape[0])):\n",
        "            if(self.dataset[j,-1] == 1):\n",
        "                self.varianciaClasse[0][i]+=self.dataset[j,i]\n",
        "                cont1+=1\n",
        "            else:\n",
        "                self.varianciaClasse[1][i]+=self.dataset[j,i]\n",
        "                cont2+=1               \n",
        "        self.varianciaClasse[0][i]/=cont1\n",
        "        self.varianciaClasse[1][i]/=cont2\n",
        "    \n",
        "  def calcula_condicional(self,teste) -> None:\n",
        "    self.calcula_variancia_classe()\n",
        "    mu1 = self.mediaClasse[0]\n",
        "    mu2 = self.mediaClasse[1]\n",
        "    sigma1 = self.varianciaClasse[0]\n",
        "    sigma2 = self.varianciaClasse[1]\n",
        "    self.condicionalClasse = np.zeros(((2,self.dataset.shape[1]-1)))\n",
        "    for i in range((self.dataset.shape[1]-1)):\n",
        "        self.condicionalClasse[0][i]= (1.0/(sigma1[i] * np.sqrt(2.0 * np.pi))) * np.exp( - ((teste[i] - mu1[i])**2.0) / (2.0 * sigma1[i]**2.0))\n",
        "        self.condicionalClasse[1][i]= (1.0/(sigma2[i] * np.sqrt(2.0 * np.pi))) * np.exp( - ((teste[i] - mu2[i])**2.0) / (2.0 * sigma2[i]**2.0))\n",
        "\n",
        "  def calculaPriori(self) -> None:\n",
        "    self.PrioriClasse = np.zeros((2))\n",
        "    tam_base = self.dataset.shape[0]\n",
        "    for i in range(tam_base):\n",
        "        if(self.dataset[i,-1] == 1):\n",
        "            self.PrioriClasse[0]+=1\n",
        "        else:\n",
        "            self.PrioriClasse[1]+=1\n",
        "    \n",
        "    self.PrioriClasse[0]/=tam_base\n",
        "    self.PrioriClasse[1]/=tam_base\n",
        "\n",
        "  def fit(self,teste) -> int:\n",
        "    self.calculaPriori()\n",
        "    self.calcula_condicional(teste)\n",
        "\n",
        "    self.probabilidade = np.ones(((2)))\n",
        "    \n",
        "    for i in range(self.dataset.shape[1]-1):\n",
        "        self.probabilidade[0] *= (self.condicionalClasse[0][i])\n",
        "        self.probabilidade[1] *= (self.condicionalClasse[1][i])\n",
        "\n",
        "        \n",
        "    self.probabilidade[0]*= self.PrioriClasse[0]\n",
        "    self.probabilidade[1]*= self.PrioriClasse[1]\n",
        "    \n",
        "    if(self.probabilidade[0] <= self.probabilidade[1]):\n",
        "        return 1\n",
        "    else:\n",
        "        return 0\n",
        "\n",
        "\n",
        "  def predict(self) -> None:\n",
        "    tam_conjunto_teste = self.conjunto_teste.shape[0]\n",
        "    self.acertos =0\n",
        "    self.erros =0\n",
        "    \n",
        "    for i in range(tam_conjunto_teste):\n",
        "        resultado = self.fit(self.conjunto_teste[i,:])\n",
        "        if(resultado == self.conjunto_teste[i,-1]):\n",
        "            self.acertos+=1\n",
        "        else:\n",
        "            self.erros+=1\n",
        "    self.por_acertos = self.acertos*100/(len(self.conjunto_teste))\n",
        "    self.por_erros = self.erros*100/(len(self.conjunto_teste))\n",
        "    print(\"--------------------------\")\n",
        "    print(\"Resultados classificação bayes ingênuo\")\n",
        "    print(\"\")\n",
        "    print(\"--------------------------\\n\")\n",
        "    print(f\"Acertos:{self.acertos} de um total de {len(self.conjunto_teste)} amostras \\nequivale a {self.por_acertos}%\")\n",
        "    print(f\"Erros:{self.erros} de um total de {len(self.conjunto_teste)} amostras \\nequivale a {self.por_erros}%\")\n",
        "\n",
        "    print(\"--------------------------\")\n",
        "    \n",
        "  "
      ],
      "metadata": {
        "id": "hEWR5S8g7FAt"
      },
      "execution_count": 2,
      "outputs": []
    },
    {
      "cell_type": "code",
      "source": [
        "def main():\n",
        "  dataset = np.genfromtxt('base.txt')\n",
        "  dataset[dataset[:,-1] == 2, -1] = 0  \n",
        "  model = bayes(dataset)\n",
        "  model.normaliza()\n",
        "  model.cria_conj_test()\n",
        "  model.predict()\n",
        "main()"
      ],
      "metadata": {
        "colab": {
          "base_uri": "https://localhost:8080/"
        },
        "id": "DKIEziPhR0RA",
        "outputId": "df28a845-9cd5-4183-f1ad-e1f835e65e0e"
      },
      "execution_count": 3,
      "outputs": [
        {
          "output_type": "stream",
          "name": "stdout",
          "text": [
            "--------------------------\n",
            "Resultados classificação bayes ingênuo\n",
            "\n",
            "--------------------------\n",
            "\n",
            "Acertos:143 de um total de 200 amostras \n",
            "equivale a 71.5%\n",
            "Erros:57 de um total de 200 amostras \n",
            "equivale a 28.5%\n",
            "--------------------------\n"
          ]
        }
      ]
    }
  ]
}